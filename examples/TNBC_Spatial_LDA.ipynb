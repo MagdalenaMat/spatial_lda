{
 "cells": [
  {
   "cell_type": "code",
   "execution_count": null,
   "metadata": {
    "ExecuteTime": {
     "end_time": "2020-07-16T04:17:04.060103Z",
     "start_time": "2020-07-16T04:17:04.038901Z"
    },
    "colab": {
     "base_uri": "https://localhost:8080/",
     "height": 565
    },
    "colab_type": "code",
    "executionInfo": {
     "elapsed": 24832,
     "status": "ok",
     "timestamp": 1593094561771,
     "user": {
      "displayName": "Vladimir Jojic",
      "photoUrl": "",
      "userId": "13524784620792903275"
     },
     "user_tz": 420
    },
    "id": "1kgB6psrmACX",
    "outputId": "ec01c6d9-f507-4937-b8ff-eda249e99da3"
   },
   "outputs": [],
   "source": [
    "#@title Authenticate for GDrive and setup paths\n",
    "import os\n",
    "import sys\n",
    "IN_COLAB = \"google.colab\" in sys.modules\n",
    "\n",
    "if IN_COLAB:\n",
    "  from google.colab import auth\n",
    "  from google.colab import drive\n",
    "  drive.mount('/content/drive')  \n",
    "  ROOT_DIR = '/content/drive/My Drive/work/spatial_lda'\n",
    "  sys.path.insert(1, f\"{ROOT_DIR}\")\n",
    "  !pip install lifelines\n",
    "else:\n",
    "  ROOT_DIR = '~/spatial_lda'  \n",
    "  \n",
    "%cd {ROOT_DIR}\n",
    "PATH_TO_MODELS = f'./models/'\n",
    "PATH_TO_PATIENT_DFS_PKL = f'./data/tnbc/patient_dfs.pkl'\n",
    "PATH_TO_TUMOR_MARKER_FEATURES_PKL = f'./data/tnbc/tumor_marker_features.pkl'\n",
    "PATH_TO_COHORT_METADATA = f'./data/tnbc/mibitof_cohort_metadata.xlsx'\n",
    "\n",
    "paths = [\n",
    "  PATH_TO_MODELS,\n",
    "  PATH_TO_PATIENT_DFS_PKL,\n",
    "  PATH_TO_TUMOR_MARKER_FEATURES_PKL, \n",
    "  PATH_TO_COHORT_METADATA\n",
    "]\n",
    "\n",
    "paths_exist = {path:os.path.exists(path) for path in paths}\n",
    "display(paths_exist)\n",
    "assert all(paths_exist.values())"
   ]
  },
  {
   "cell_type": "code",
   "execution_count": null,
   "metadata": {
    "ExecuteTime": {
     "end_time": "2020-07-16T04:17:05.948480Z",
     "start_time": "2020-07-16T04:17:04.062309Z"
    },
    "colab": {
     "base_uri": "https://localhost:8080/",
     "height": 54
    },
    "colab_type": "code",
    "executionInfo": {
     "elapsed": 3296,
     "status": "ok",
     "timestamp": 1593094569395,
     "user": {
      "displayName": "Vladimir Jojic",
      "photoUrl": "",
      "userId": "13524784620792903275"
     },
     "user_tz": 420
    },
    "id": "NGILncaXmACb",
    "outputId": "46783010-3d62-4a74-f0bb-f755f8e057d7"
   },
   "outputs": [],
   "source": [
    "#@title Import and set processes and set training params\n",
    "%load_ext autoreload\n",
    "%autoreload 2\n",
    "\n",
    "import functools\n",
    "import logging\n",
    "import numpy as np\n",
    "import pandas as pd\n",
    "import os\n",
    "import pickle\n",
    "import scipy\n",
    "from sklearn.model_selection import train_test_split\n",
    "import time\n",
    "import tqdm\n",
    "# Spatial LDA imports\n",
    "from spatial_lda.featurization import featurize_tumors\n",
    "from spatial_lda.featurization import neighborhood_to_marker\n",
    "from spatial_lda.featurization import make_merged_difference_matrices\n",
    "import spatial_lda.model\n",
    "from spatial_lda.visualization import plot_samples_in_a_row\n",
    "from spatial_lda.visualization import plot_one_tumor_all_topics\n",
    "from spatial_lda.visualization import plot_one_tumor_topic\n",
    "from spatial_lda.visualization import plot_topics_heatmap\n",
    "\n",
    "N_PARALLEL_PROCESSES =  8#@param\n",
    "TRAIN_SIZE_FRACTION = 0.9 #@param\n",
    "N_TOPICS = 5 #@param\n",
    "DIFFERENCE_PENALTY = 250 #@param\n",
    "RETRAIN_MODEL = True#@param\n",
    "\n",
    "logger = logging.getLogger()\n",
    "logger.setLevel(logging.INFO)"
   ]
  },
  {
   "cell_type": "markdown",
   "metadata": {
    "colab_type": "text",
    "id": "s8ut_7jfmACd"
   },
   "source": [
    "# Model Fitting"
   ]
  },
  {
   "cell_type": "markdown",
   "metadata": {
    "colab_type": "text",
    "id": "SG-D8Ih5mACe"
   },
   "source": [
    "## Load data"
   ]
  },
  {
   "cell_type": "code",
   "execution_count": null,
   "metadata": {
    "ExecuteTime": {
     "end_time": "2020-07-16T04:17:06.431260Z",
     "start_time": "2020-07-16T04:17:05.950486Z"
    },
    "colab": {},
    "colab_type": "code",
    "executionInfo": {
     "elapsed": 2165,
     "status": "ok",
     "timestamp": 1593094573207,
     "user": {
      "displayName": "Vladimir Jojic",
      "photoUrl": "",
      "userId": "13524784620792903275"
     },
     "user_tz": 420
    },
    "id": "gE3Z04yWmACe"
   },
   "outputs": [],
   "source": [
    "N_IMMUNE_CLUSTERS = 12\n",
    "\n",
    "with open(PATH_TO_PATIENT_DFS_PKL, 'rb') as f:\n",
    "   patient_dfs = pickle.load(f)\n",
    "\n",
    "for patient_id in patient_dfs.keys():\n",
    "  df = patient_dfs[patient_id]\n",
    "  df['combined_cluster_id'] = (df['immune_cluster'].fillna(0) + \n",
    "                               (df.cluster_id + N_IMMUNE_CLUSTERS).fillna(0))\n",
    "  df.loc[df['combined_cluster_id'] == 0, 'combined_cluster_id'] = None\n",
    "  df.loc[:, 'is_tumor'] = ~df['isimmune']\n",
    "  patient_dfs[patient_id] = df\n",
    "  \n",
    "  \n",
    "compartmentalized_tumors = [3, 4, 5, 6, 9, 10, 16, 28, 32, 35, 36, 37, 40, 41]\n",
    "noncompartmentalized_tumors = [x for x in patient_dfs.keys() \n",
    "                               if x not in compartmentalized_tumors]\n",
    "immune_cluster_names={8:'Treg',6:'MF/Glia',1:'B',4:'CD11c-high',7:'NK',0:'CD4T',\n",
    "                      2:'DC',3:'CD8T',10:'MF',11:'Neutrophil',9:'Other', 5:'MF'}\n",
    "other_cluster_names={0:'Epithelial',2:'Tumor/Keratin',3:'Tumor/EGFR',\n",
    "                     4:'Endothelial/Vim',1:'Mesenchymal/SMA'}\n",
    "markers = patient_dfs[1].columns[2:44]\n",
    "num_patients = 41"
   ]
  },
  {
   "cell_type": "markdown",
   "metadata": {
    "colab_type": "text",
    "id": "9tfYyFSWmACg"
   },
   "source": [
    "## Featurize and save"
   ]
  },
  {
   "cell_type": "code",
   "execution_count": null,
   "metadata": {
    "ExecuteTime": {
     "end_time": "2020-07-16T04:17:06.602139Z",
     "start_time": "2020-07-16T04:17:06.433402Z"
    },
    "colab": {},
    "colab_type": "code",
    "executionInfo": {
     "elapsed": 1567,
     "status": "ok",
     "timestamp": 1593094575411,
     "user": {
      "displayName": "Vladimir Jojic",
      "photoUrl": "",
      "userId": "13524784620792903275"
     },
     "user_tz": 420
    },
    "id": "965mnVbtmACh"
   },
   "outputs": [],
   "source": [
    "if os.path.exists(PATH_TO_TUMOR_MARKER_FEATURES_PKL):\n",
    "  with open(PATH_TO_TUMOR_MARKER_FEATURES_PKL, 'rb') as f:\n",
    "    tumor_marker_features = pickle.load(f)\n",
    "else:\n",
    "  neighborhood_feature_fn = functools.partial(neighborhood_to_marker, \n",
    "                                              markers=markers)\n",
    "  tumor_marker_features = featurize_tumors(patient_dfs, \n",
    "                                           neighborhood_feature_fn, \n",
    "                                           radius=100,\n",
    "                                           n_processes=N_PARALLEL_PROCESSES)\n",
    "  with open(PATH_TO_TUMOR_MARKER_FEATURES_PKL, 'wb') as f:\n",
    "    pickle.dump(tumor_marker_features, f)"
   ]
  },
  {
   "cell_type": "markdown",
   "metadata": {
    "colab_type": "text",
    "id": "pZSkBJWjmACj"
   },
   "source": [
    "## Split training set and compute difference matrices"
   ]
  },
  {
   "cell_type": "code",
   "execution_count": null,
   "metadata": {
    "ExecuteTime": {
     "end_time": "2020-07-16T04:17:09.276023Z",
     "start_time": "2020-07-16T04:17:06.604009Z"
    },
    "colab": {
     "base_uri": "https://localhost:8080/",
     "height": 54
    },
    "colab_type": "code",
    "executionInfo": {
     "elapsed": 3892,
     "status": "ok",
     "timestamp": 1593094580883,
     "user": {
      "displayName": "Vladimir Jojic",
      "photoUrl": "",
      "userId": "13524784620792903275"
     },
     "user_tz": 420
    },
    "id": "4lZgx54WmACj",
    "outputId": "584e2ac1-47d0-4939-95ca-ee1982365b2b"
   },
   "outputs": [],
   "source": [
    "%%time\n",
    "\n",
    "# Subsample tumor cells\n",
    "all_tumor_idxs = tumor_marker_features.index.map(lambda x: x[0])\n",
    "_sets = train_test_split(tumor_marker_features, \n",
    "                         test_size=1. - TRAIN_SIZE_FRACTION,\n",
    "                         stratify=all_tumor_idxs)\n",
    "train_tumor_marker_features, test_tumor_marker_features = _sets\n",
    "train_difference_matrices = make_merged_difference_matrices(\n",
    "    train_tumor_marker_features, patient_dfs, 'x', 'y')\n",
    "tumor_idxs = train_tumor_marker_features.index.map(lambda x: x[0])\n"
   ]
  },
  {
   "cell_type": "markdown",
   "metadata": {
    "colab_type": "text",
    "id": "SAV7-METauXk"
   },
   "source": [
    "## Visualize graphs used to tie neighboring environments"
   ]
  },
  {
   "cell_type": "code",
   "execution_count": null,
   "metadata": {
    "ExecuteTime": {
     "end_time": "2020-07-16T04:17:24.840786Z",
     "start_time": "2020-07-16T04:17:09.277907Z"
    },
    "colab": {
     "base_uri": "https://localhost:8080/",
     "height": 242
    },
    "colab_type": "code",
    "executionInfo": {
     "elapsed": 17687,
     "status": "ok",
     "timestamp": 1593094600440,
     "user": {
      "displayName": "Vladimir Jojic",
      "photoUrl": "",
      "userId": "13524784620792903275"
     },
     "user_tz": 420
    },
    "id": "djkx__tVauXk",
    "outputId": "220774da-9116-4155-9e87-1f5d1b3ab73a"
   },
   "outputs": [],
   "source": [
    "from spatial_lda.visualization import plot_adjacency_graph\n",
    "\n",
    "def make_plot_fn(difference_matrices):  \n",
    "    def plot_fn(ax, tumor_idx, features_df, patient_dfs):\n",
    "        plot_adjacency_graph(ax, tumor_idx, features_df, patient_dfs, difference_matrices)\n",
    "    return plot_fn\n",
    "_plot_fn = make_plot_fn(train_difference_matrices)\n",
    "\n",
    "plot_samples_in_a_row(train_tumor_marker_features, _plot_fn, patient_dfs, tumor_set=[3, 4, 5, 9, 28])"
   ]
  },
  {
   "cell_type": "markdown",
   "metadata": {
    "colab_type": "text",
    "id": "tAkQIbwnmACr"
   },
   "source": [
    "## Inspect the microenvironment data"
   ]
  },
  {
   "cell_type": "code",
   "execution_count": null,
   "metadata": {
    "ExecuteTime": {
     "end_time": "2020-07-16T04:17:24.908089Z",
     "start_time": "2020-07-16T04:17:24.842337Z"
    },
    "colab": {
     "base_uri": "https://localhost:8080/",
     "height": 531
    },
    "colab_type": "code",
    "executionInfo": {
     "elapsed": 298,
     "status": "ok",
     "timestamp": 1593094602857,
     "user": {
      "displayName": "Vladimir Jojic",
      "photoUrl": "",
      "userId": "13524784620792903275"
     },
     "user_tz": 420
    },
    "id": "B__8ZauemACs",
    "outputId": "e48aa208-c843-401a-9f00-7abfb306aa41",
    "scrolled": false
   },
   "outputs": [],
   "source": [
    "tumor_marker_features"
   ]
  },
  {
   "cell_type": "markdown",
   "metadata": {
    "colab_type": "text",
    "id": "HDCYsebYmACu"
   },
   "source": [
    "## Fit spatial-LDA model on the training set"
   ]
  },
  {
   "cell_type": "code",
   "execution_count": null,
   "metadata": {
    "ExecuteTime": {
     "end_time": "2020-07-16T09:40:11.087025Z",
     "start_time": "2020-07-16T04:17:24.911273Z"
    },
    "colab": {
     "base_uri": "https://localhost:8080/",
     "height": 35
    },
    "colab_type": "code",
    "executionInfo": {
     "elapsed": 691,
     "status": "ok",
     "timestamp": 1593094604626,
     "user": {
      "displayName": "Vladimir Jojic",
      "photoUrl": "",
      "userId": "13524784620792903275"
     },
     "user_tz": 420
    },
    "id": "aDeaJ_khmACu",
    "outputId": "16f9bc86-24ea-48af-dede-3daa27d9f00d",
    "scrolled": false
   },
   "outputs": [],
   "source": [
    "path_to_train_model = '_'.join((f'{PATH_TO_MODELS}/tnbc_training',\n",
    "                                f'penalty={DIFFERENCE_PENALTY}',\n",
    "                                f'topics={N_TOPICS}',\n",
    "                                f'trainfrac={TRAIN_SIZE_FRACTION}')) + '.pkl'\n",
    "\n",
    "if os.path.exists(path_to_train_model) and not RETRAIN_MODEL:\n",
    "  print('Loading existing model and inferred topics.')\n",
    "  with open(path_to_train_model, 'rb') as f:\n",
    "    spatial_lda_model = pickle.load(f)\n",
    "else:\n",
    "  spatial_lda_model = spatial_lda.model.train(train_tumor_marker_features, \n",
    "                                              train_difference_matrices, \n",
    "                                              n_topics=N_TOPICS, \n",
    "                                              difference_penalty=DIFFERENCE_PENALTY, \n",
    "                                              verbosity=1,\n",
    "                                              n_parallel_processes=N_PARALLEL_PROCESSES,\n",
    "                                              n_iters=3,\n",
    "                                              admm_rho=0.1,\n",
    "                                              primal_dual_mu=2)\n",
    "  with open(path_to_train_model, 'wb') as f:\n",
    "    pickle.dump(spatial_lda_model, f)"
   ]
  },
  {
   "cell_type": "markdown",
   "metadata": {
    "colab_type": "text",
    "id": "smsZ6hHkmACw"
   },
   "source": [
    "# Inference of topics for each neighborhood \n"
   ]
  },
  {
   "cell_type": "code",
   "execution_count": null,
   "metadata": {
    "ExecuteTime": {
     "start_time": "2020-07-16T04:17:04.054Z"
    },
    "colab": {
     "base_uri": "https://localhost:8080/",
     "height": 35
    },
    "colab_type": "code",
    "executionInfo": {
     "elapsed": 563,
     "status": "ok",
     "timestamp": 1593094606245,
     "user": {
      "displayName": "Vladimir Jojic",
      "photoUrl": "",
      "userId": "13524784620792903275"
     },
     "user_tz": 420
    },
    "id": "e2mAejeImACx",
    "outputId": "1e2cc296-e718-47ee-d63b-e3b8e6d02798"
   },
   "outputs": [],
   "source": [
    "PATH_TO_COMPLETE_MODEL = '_'.join((f'{PATH_TO_MODELS}/tnbc_complete',\n",
    "                                f'penalty={DIFFERENCE_PENALTY}',\n",
    "                                f'topics={N_TOPICS}',\n",
    "                                f'trainfrac={TRAIN_SIZE_FRACTION}')) + '.pkl'\n",
    "\n",
    "if os.path.exists(PATH_TO_COMPLETE_MODEL):\n",
    "  print('Loading existing model and inferred topics.')\n",
    "  with open(PATH_TO_COMPLETE_MODEL, 'rb') as f:\n",
    "    complete_lda = pickle.load(f)\n",
    "else:\n",
    "  complete_difference_matrices = make_merged_difference_matrices(\n",
    "      tumor_marker_features, patient_dfs, 'x' ,'y')\n",
    "  complete_lda = spatial_lda.model.infer(\n",
    "      spatial_lda_model.components_, tumor_marker_features, \n",
    "      complete_difference_matrices, difference_penalty=250,\n",
    "      n_parallel_processes=N_PARALLEL_PROCESSES)\n",
    "  with open(PATH_TO_COMPLETE_MODEL, 'wb') as f:\n",
    "    pickle.dump(complete_lda, f)"
   ]
  },
  {
   "cell_type": "markdown",
   "metadata": {
    "colab_type": "text",
    "id": "5KoO3Xg_mACz"
   },
   "source": [
    "# Visualization"
   ]
  },
  {
   "cell_type": "code",
   "execution_count": null,
   "metadata": {
    "ExecuteTime": {
     "start_time": "2020-07-16T04:17:04.055Z"
    },
    "colab": {
     "base_uri": "https://localhost:8080/",
     "height": 264
    },
    "colab_type": "code",
    "executionInfo": {
     "elapsed": 1705,
     "status": "ok",
     "timestamp": 1593094610463,
     "user": {
      "displayName": "Vladimir Jojic",
      "photoUrl": "",
      "userId": "13524784620792903275"
     },
     "user_tz": 420
    },
    "id": "QWsFDGtxmACz",
    "outputId": "a7947f9a-0b73-4c2c-8850-29bab30354d4"
   },
   "outputs": [],
   "source": [
    "plot_samples_in_a_row(complete_lda.topic_weights, plot_one_tumor_all_topics, patient_dfs, tumor_set=[3, 4, 5, 9, 28])"
   ]
  },
  {
   "cell_type": "code",
   "execution_count": null,
   "metadata": {
    "ExecuteTime": {
     "start_time": "2020-07-16T04:17:04.056Z"
    },
    "colab": {
     "base_uri": "https://localhost:8080/",
     "height": 1000,
     "output_embedded_package_id": "11LBOZ20682fcOx0QH5k6ea1juyzfglKV"
    },
    "colab_type": "code",
    "executionInfo": {
     "elapsed": 5045,
     "status": "ok",
     "timestamp": 1593094621330,
     "user": {
      "displayName": "Vladimir Jojic",
      "photoUrl": "",
      "userId": "13524784620792903275"
     },
     "user_tz": 420
    },
    "id": "1b52_fQsmAC1",
    "outputId": "3ddf0e6a-3816-46b2-aca1-f0bc4b0ab2e1"
   },
   "outputs": [],
   "source": [
    "for t in range(N_TOPICS):\n",
    "  plot_samples_in_a_row(complete_lda.topic_weights.iloc[:, t], plot_one_tumor_topic, patient_dfs, tumor_set=[3, 4, 5, 9, 28])"
   ]
  },
  {
   "cell_type": "code",
   "execution_count": null,
   "metadata": {
    "ExecuteTime": {
     "start_time": "2020-07-16T04:17:04.057Z"
    },
    "colab": {
     "base_uri": "https://localhost:8080/",
     "height": 291
    },
    "colab_type": "code",
    "executionInfo": {
     "elapsed": 632,
     "status": "ok",
     "timestamp": 1593094672871,
     "user": {
      "displayName": "Vladimir Jojic",
      "photoUrl": "",
      "userId": "13524784620792903275"
     },
     "user_tz": 420
    },
    "id": "FZsCJijFmAC3",
    "outputId": "b2175d47-f52a-48da-b9dd-3016ae4c834e"
   },
   "outputs": [],
   "source": [
    "plot_topics_heatmap(complete_lda.components_, tumor_marker_features.columns)\n"
   ]
  },
  {
   "cell_type": "markdown",
   "metadata": {
    "colab_type": "text",
    "id": "8o4XSM76mAC5"
   },
   "source": [
    "# Survival analysis"
   ]
  },
  {
   "cell_type": "code",
   "execution_count": null,
   "metadata": {
    "ExecuteTime": {
     "start_time": "2020-07-16T04:17:04.059Z"
    },
    "colab": {},
    "colab_type": "code",
    "executionInfo": {
     "elapsed": 731,
     "status": "ok",
     "timestamp": 1593094676733,
     "user": {
      "displayName": "Vladimir Jojic",
      "photoUrl": "",
      "userId": "13524784620792903275"
     },
     "user_tz": 420
    },
    "id": "lDHuiSwumAC5"
   },
   "outputs": [],
   "source": [
    "with open(PATH_TO_COHORT_METADATA, 'rb') as f:\n",
    "  tumor_metadata = pd.read_excel(f, header=1).iloc[:39]\n",
    "tumor_metadata.index = tumor_metadata['InternalId'].astype(int)\n",
    "tumor_metadata['event'] = tumor_metadata['Censored'] != 1.0\n",
    "topic_weight_for_regression = complete_lda.topic_weights\n",
    "\n",
    "topic_weight_for_regression['tumor_idx'] = topic_weight_for_regression.index.map(lambda x: x[0])"
   ]
  },
  {
   "cell_type": "code",
   "execution_count": null,
   "metadata": {
    "ExecuteTime": {
     "start_time": "2020-07-16T04:17:04.061Z"
    },
    "colab": {},
    "colab_type": "code",
    "executionInfo": {
     "elapsed": 451,
     "status": "ok",
     "timestamp": 1593094678390,
     "user": {
      "displayName": "Vladimir Jojic",
      "photoUrl": "",
      "userId": "13524784620792903275"
     },
     "user_tz": 420
    },
    "id": "dM5KBU1mmAC7"
   },
   "outputs": [],
   "source": [
    "def threshold_x(x, values):\n",
    "  return ((values > x).sum() + 1) / ((values <= x).sum() + 1)  \n",
    "\n",
    "threshold_ = functools.partial(threshold_x, 0.2)\n",
    "aggregate_measures = topic_weight_for_regression.groupby('tumor_idx').agg([np.mean, threshold_])\n",
    "aggregate_measures.columns = ['%s (%s)' % (x, y) for x, y in aggregate_measures.columns]"
   ]
  },
  {
   "cell_type": "code",
   "execution_count": null,
   "metadata": {
    "ExecuteTime": {
     "start_time": "2020-07-16T04:17:04.063Z"
    },
    "colab": {},
    "colab_type": "code",
    "executionInfo": {
     "elapsed": 288,
     "status": "ok",
     "timestamp": 1593094679265,
     "user": {
      "displayName": "Vladimir Jojic",
      "photoUrl": "",
      "userId": "13524784620792903275"
     },
     "user_tz": 420
    },
    "id": "mhCn7K0_mAC9"
   },
   "outputs": [],
   "source": [
    "def get_tumor_markers(tumor_features):\n",
    "  tumor_idx = tumor_features.index.map(lambda x: x[0])\n",
    "  tumor_set = np.unique(tumor_idx)\n",
    "  num_rows = (len(tumor_set) // 4) + 1\n",
    "  markers = []\n",
    "  for i, tumor in enumerate(tumor_set):\n",
    "    cell_idx = tumor_features[tumor_idx == tumor].index.map(lambda x: x[1])\n",
    "    feature_df = patient_dfs[tumor].iloc[cell_idx]\n",
    "    feature_df = feature_df.set_index(tumor_features[tumor_idx == tumor].index)\n",
    "    markers.append(feature_df)\n",
    "  markers = pd.concat(markers)\n",
    "  return markers"
   ]
  },
  {
   "cell_type": "code",
   "execution_count": null,
   "metadata": {
    "ExecuteTime": {
     "start_time": "2020-07-16T04:17:04.065Z"
    },
    "colab": {},
    "colab_type": "code",
    "executionInfo": {
     "elapsed": 2100,
     "status": "ok",
     "timestamp": 1593094681768,
     "user": {
      "displayName": "Vladimir Jojic",
      "photoUrl": "",
      "userId": "13524784620792903275"
     },
     "user_tz": 420
    },
    "id": "N3kAqwJQmAC_"
   },
   "outputs": [],
   "source": [
    "marker_df = get_tumor_markers(complete_lda.topic_weights)\n",
    "marker_df['tumor_idx'] = marker_df.index.map(lambda x: x[0])\n",
    "threshold_ = functools.partial(threshold_x, 0.05)\n",
    "aggregated_tumor_markers = marker_df.groupby('tumor_idx').agg([np.mean, threshold_])\n",
    "aggregated_tumor_markers.columns = ['%s (%s)' % (x, y) for x, y in aggregated_tumor_markers.columns]\n",
    "\n",
    "regression_data = pd.merge(aggregate_measures, tumor_metadata, left_index=True, right_index=True)\n",
    "regression_data = pd.merge(regression_data, aggregated_tumor_markers, left_index=True, right_index=True)\n",
    "regression_data['is_mixed'] = 1 - regression_data.index.isin(compartmentalized_tumors).astype(int)"
   ]
  },
  {
   "cell_type": "code",
   "execution_count": null,
   "metadata": {
    "ExecuteTime": {
     "start_time": "2020-07-16T04:17:04.066Z"
    },
    "colab": {
     "base_uri": "https://localhost:8080/",
     "height": 1000
    },
    "colab_type": "code",
    "executionInfo": {
     "elapsed": 766,
     "status": "ok",
     "timestamp": 1593094683098,
     "user": {
      "displayName": "Vladimir Jojic",
      "photoUrl": "",
      "userId": "13524784620792903275"
     },
     "user_tz": 420
    },
    "id": "EHLBCdAQmADA",
    "outputId": "771151af-5280-4205-c9e8-885bde22d571",
    "scrolled": false
   },
   "outputs": [],
   "source": [
    "import lifelines\n",
    "cph = lifelines.CoxPHFitter()\n",
    "covariates = ['Survival_days_capped*', 'event'] + ['Topic-%d (threshold_x)' % i for i in range(5)]\n",
    "cph.fit(regression_data[covariates], duration_col='Survival_days_capped*', event_col='event', show_progress=True)\n",
    "cph.print_summary()\n",
    "cph.plot()"
   ]
  }
 ],
 "metadata": {
  "colab": {
   "collapsed_sections": [],
   "name": "TNBC_Spatial_LDA.ipynb",
   "provenance": []
  },
  "kernelspec": {
   "display_name": "Python 3.6 (conda)",
   "language": "python",
   "name": "condapy36"
  },
  "language_info": {
   "codemirror_mode": {
    "name": "ipython",
    "version": 3
   },
   "file_extension": ".py",
   "mimetype": "text/x-python",
   "name": "python",
   "nbconvert_exporter": "python",
   "pygments_lexer": "ipython3",
   "version": "3.6.9"
  }
 },
 "nbformat": 4,
 "nbformat_minor": 1
}
